{
 "cells": [
  {
   "cell_type": "code",
   "execution_count": 25,
   "metadata": {
    "id": "OHo5sgKBIAcb"
   },
   "outputs": [],
   "source": [
    "import io\n",
    "import nltk\n",
    "import string\n",
    "import regex as re\n",
    "import numpy as np\n",
    "import pandas as pd\n",
    "import seaborn as sns\n",
    "from scipy import stats\n",
    "import matplotlib.pyplot as plt\n",
    "from wordcloud import STOPWORDS\n",
    "from sklearn.metrics import f1_score\n",
    "from nltk.tokenize import word_tokenize\n",
    "from sklearn.metrics import accuracy_score,mean_squared_error\n",
    "from sklearn.model_selection import train_test_split\n",
    "from sklearn.model_selection import cross_val_predict\n",
    "from sklearn.ensemble import RandomForestClassifier"
   ]
  },
  {
   "cell_type": "code",
   "execution_count": 2,
   "metadata": {
    "colab": {
     "base_uri": "https://localhost:8080/"
    },
    "id": "LsvgPjLnIO8p",
    "outputId": "1aacb873-ddc8-4ff9-a8f6-7811e7b233e7"
   },
   "outputs": [],
   "source": [
    "fake = pd.read_csv('Fake.csv')  # Fake News\n",
    "real = pd.read_csv('True.csv')  # Real News"
   ]
  },
  {
   "cell_type": "code",
   "execution_count": 3,
   "metadata": {
    "id": "x0JiZZfcIPJa"
   },
   "outputs": [],
   "source": [
    "real['is_fake'] = 0\n",
    "fake['is_fake'] = 1   # Dependent Variable for Classifying Data\n",
    "data = pd.concat([real,fake])   # Merging Real & Fake News Data\n",
    "data = data.sample(frac=1)   # Shuffle the Data\n",
    "data = data.reset_index()\n",
    "data.drop(['date','subject','index'], axis=1, inplace=True)"
   ]
  },
  {
   "cell_type": "code",
   "execution_count": 4,
   "metadata": {
    "id": "H_QV6_wHIPSe"
   },
   "outputs": [],
   "source": [
    "X, y = data.drop(['is_fake'],axis=1), data['is_fake']\n",
    "X_train, X_test, y_train, y_test = train_test_split(X, y, test_size=0.2, random_state=42) # Splitting into Train & Test data"
   ]
  },
  {
   "cell_type": "code",
   "execution_count": 5,
   "metadata": {
    "id": "B_W4meWxIPUz"
   },
   "outputs": [],
   "source": [
    "train_real = X_train.loc[(y_train==0),:]\n",
    "train_fake = X_train.loc[(y_train==1),:]"
   ]
  },
  {
   "cell_type": "markdown",
   "metadata": {
    "id": "7BGlANwk31z0"
   },
   "source": [
    "## Lexical Diversity of Fake News\n",
    "\n",
    "Let's define a measure for lexical diversity to find out how many unique vocabs are used in Fake News articles.\n",
    "\n",
    "Lexical diversity = No. of unique words in target category / No. of words in both categories"
   ]
  },
  {
   "cell_type": "code",
   "execution_count": 6,
   "metadata": {
    "colab": {
     "base_uri": "https://localhost:8080/"
    },
    "id": "Af3F0zyhIPXT",
    "outputId": "9a70ef1c-96ef-43d8-95fd-c6aba4a40807"
   },
   "outputs": [
    {
     "name": "stdout",
     "output_type": "stream",
     "text": [
      "Real News: 0.0063\n",
      "Fake News: 0.0115\n"
     ]
    }
   ],
   "source": [
    "def lexical_diversity(data, other_data, feature):\n",
    "    column = data[feature].str.lower() \n",
    "    text = ' '.join(column)\n",
    "    exclude = set(string.punctuation)\n",
    "    words = ''.join(char for char in text if char not in exclude) # Extract words from the column specified\n",
    "    words_splitted = words.split()\n",
    "    \n",
    "    other_column = other_data[feature].str.lower() \n",
    "    other_text = ' '.join(other_column)\n",
    "    other_words = ''.join(char for char in other_text if char not in exclude) # Extract words from the other column\n",
    "    other_words_splitted = other_words.split()\n",
    "\n",
    "    return len(set(words_splitted)) / (len(words_splitted) + len(other_words_splitted))\n",
    "\n",
    "print(f'Real News: {lexical_diversity(train_real, train_fake, \"text\"):.4f}')\n",
    "print(f'Fake News: {lexical_diversity(train_fake, train_real, \"text\"):.4f}')"
   ]
  },
  {
   "cell_type": "markdown",
   "metadata": {
    "id": "43M0lSBE48sG"
   },
   "source": [
    "## Most frequently used words in Titles\n",
    "\n",
    "Is there a difference between the most frequently used words in the titles of Real News and Fake News? This question might already reveal the topics of the Fake News articles.\n"
   ]
  },
  {
   "cell_type": "code",
   "execution_count": 6,
   "metadata": {
    "colab": {
     "base_uri": "https://localhost:8080/"
    },
    "id": "9p7EUzGbIPZw",
    "outputId": "c50dd870-8bce-4cd9-a17e-4e366e10eb9f"
   },
   "outputs": [
    {
     "name": "stdout",
     "output_type": "stream",
     "text": [
      "Common words in Real News Titles:-\n",
      "0     trump\n",
      "1        us\n",
      "2      says\n",
      "3     house\n",
      "4     north\n",
      "5       new\n",
      "6     white\n",
      "7    russia\n",
      "8     korea\n",
      "9    senate\n",
      "Name: 0, dtype: object\n",
      "\n",
      "Common words in Fake News Titles:-\n",
      "0        video\n",
      "1        trump\n",
      "2        watch\n",
      "3        obama\n",
      "4      hillary\n",
      "5      trump’s\n",
      "6    president\n",
      "7           us\n",
      "8      clinton\n",
      "9         will\n",
      "Name: 0, dtype: object\n",
      "\n"
     ]
    }
   ],
   "source": [
    "stopwords = set(STOPWORDS)\n",
    "\n",
    "def common_tokens_title(data, feature, name):\n",
    "    column = data[feature].str.lower()\n",
    "    text = ' '.join(column)\n",
    "    exclude = set(string.punctuation)\n",
    "    words = ''.join(char for char in text if char not in exclude)  # Extract words from News Titles\n",
    "    words_splitted = words.split()\n",
    "    words_stopped = [word for word in words_splitted if not word in stopwords]\n",
    "    print(f'{name}:-\\n{pd.DataFrame(nltk.FreqDist(words_stopped).most_common(10))[0]}\\n')  # Top 10 common words\n",
    "    \n",
    "common_tokens_title(train_real, 'title', 'Common words in Real News Titles')\n",
    "common_tokens_title(train_fake, 'title', 'Common words in Fake News Titles')"
   ]
  },
  {
   "cell_type": "markdown",
   "metadata": {
    "id": "0P6dwR_J5Jvw"
   },
   "source": [
    "## Punctutation\n",
    "\n",
    "Punctuation might provide some information for predictions."
   ]
  },
  {
   "cell_type": "code",
   "execution_count": 7,
   "metadata": {
    "id": "dirErEeAIPcW"
   },
   "outputs": [],
   "source": [
    "def count_punc(text):\n",
    "    peri = re.subn(r\"\\.\", '', text)[1] # count of (.)\n",
    "    comm = re.subn(r\"\\,\", '', text)[1] # count of (,)\n",
    "    ques = re.subn(r\"\\?\", '', text)[1] # count of (?)\n",
    "    excl = re.subn(r\"\\!\", '', text)[1] # count of (!)\n",
    "    return [peri,comm, ques, excl]\n",
    "\n",
    "def punc_df(df, feat):\n",
    "    return df.apply(lambda row: pd.Series({'peri_' + feat:count_punc(row[feat])[0], 'comm_' + feat:count_punc(row[feat])[1],'ques_' + feat:count_punc(row[feat])[2],'excl_' + feat:count_punc(row[feat])[3]}), axis=1)\n",
    "\n",
    "punc_train_title = punc_df(X_train, 'title')\n",
    "punc_test_title = punc_df(X_test, 'title')\n",
    "punc_train_text = punc_df(X_train, 'text')\n",
    "punc_test_text = punc_df(X_test, 'text')"
   ]
  },
  {
   "cell_type": "code",
   "execution_count": 8,
   "metadata": {},
   "outputs": [
    {
     "name": "stdout",
     "output_type": "stream",
     "text": [
      "Average puncutations in Title :  0.1550347454229587\n",
      "Average puncutations in Text :  10.560392445097778\n"
     ]
    }
   ],
   "source": [
    "title_punc_count = 0\n",
    "text_punc_count = 0\n",
    "\n",
    "for row in punc_train_title.itertuples():\n",
    "    title_punc_count += (row.peri_title + row.comm_title + row.ques_title + row.excl_title)/4\n",
    "for row in punc_test_title.itertuples():\n",
    "    title_punc_count += (row.peri_title + row.comm_title + row.ques_title + row.excl_title)/4\n",
    "for row in punc_train_text.itertuples():\n",
    "    text_punc_count += (row.peri_text + row.comm_text + row.ques_text + row.excl_text)/4\n",
    "for row in punc_test_text.itertuples():\n",
    "    text_punc_count += (row.peri_text + row.comm_text + row.ques_text + row.excl_text)/4\n",
    "    \n",
    "print('Average puncutations in Title : ',title_punc_count/(punc_train_title.shape[0]+punc_test_title.shape[0]))\n",
    "print('Average puncutations in Text : ',text_punc_count/(punc_train_text.shape[0]+punc_test_text.shape[0]))"
   ]
  },
  {
   "cell_type": "markdown",
   "metadata": {
    "id": "9qo2gIRv5RdE"
   },
   "source": [
    "## Text Length\n",
    "\n",
    "No. of characters present in Titles of news and their respective Text content."
   ]
  },
  {
   "cell_type": "code",
   "execution_count": 9,
   "metadata": {
    "id": "p9uTCYknIPer"
   },
   "outputs": [
    {
     "name": "stdout",
     "output_type": "stream",
     "text": [
      "Text Length :-\n",
      "  title_len      80.100268\n",
      "text_len     2465.756176\n",
      "dtype: float64\n"
     ]
    }
   ],
   "source": [
    "def len_df(df):\n",
    "    return df.apply(lambda row: pd.Series({'title_len':len(row['title']), 'text_len':len(row['text'])}), axis=1)\n",
    "\n",
    "train_len = len_df(X_train)\n",
    "test_len = len_df(X_test)\n",
    "print('Text Length :-\\n ',(train_len.mean()+test_len.mean())/2)"
   ]
  },
  {
   "cell_type": "markdown",
   "metadata": {
    "id": "7yYVKjWF5SO-"
   },
   "source": [
    "## Number of Words in the Title\n",
    "\n",
    "Let's create a feature which counts the number of words in the Title. Titles are extremely important when it comes to grabbing Attention."
   ]
  },
  {
   "cell_type": "code",
   "execution_count": 10,
   "metadata": {
    "id": "ApyweNXLIPhL"
   },
   "outputs": [
    {
     "name": "stdout",
     "output_type": "stream",
     "text": [
      "No of words :  title_words    18.678756\n",
      "dtype: float64\n"
     ]
    }
   ],
   "source": [
    "def words_df(df):\n",
    "    return df.apply(lambda row: pd.Series({'title_words':len(row['title'].split())}), axis=1)\n",
    "\n",
    "train_words = words_df(X_train)\n",
    "test_words = words_df(X_test)\n",
    "print('No of words : ',train_words.mean()+test_words.mean()/2)"
   ]
  },
  {
   "cell_type": "markdown",
   "metadata": {
    "id": "HYrak59g52oL"
   },
   "source": [
    "## Ratio of Title Length / (Article + Title) Length\n",
    "\n",
    "One could assume that some attention grabbing Fake News have a long title and very short texts. Let's include this as a feature too."
   ]
  },
  {
   "cell_type": "code",
   "execution_count": 11,
   "metadata": {
    "id": "gAi_0zw9IPjZ"
   },
   "outputs": [
    {
     "name": "stdout",
     "output_type": "stream",
     "text": [
      "Ratio :  title_ratio    0.108016\n",
      "dtype: float64\n"
     ]
    }
   ],
   "source": [
    "def ratio_df(df):\n",
    "    return df.apply(lambda row: pd.Series({'title_ratio':len(row['title'])/(len(row['title']) + len(row['text']))}), axis=1)\n",
    "\n",
    "ratio_train = ratio_df(X_train)\n",
    "ratio_test = ratio_df(X_test)\n",
    "print('Ratio : ',ratio_train.mean()+ratio_test.mean()/2)"
   ]
  },
  {
   "cell_type": "markdown",
   "metadata": {
    "id": "U8i-H1Gk6ZSa"
   },
   "source": [
    "## Creating DataFrame with Extracted Features\n",
    "\n",
    "Let us now combine the above extracted features into a single DataFrame for our model to train on."
   ]
  },
  {
   "cell_type": "code",
   "execution_count": 12,
   "metadata": {
    "colab": {
     "base_uri": "https://localhost:8080/"
    },
    "id": "3NRPvGYHIPmS",
    "outputId": "36a47095-7949-4e7e-ed9c-4951939c1046"
   },
   "outputs": [
    {
     "name": "stdout",
     "output_type": "stream",
     "text": [
      "       peri_title  comm_title  ques_title  excl_title  peri_text  comm_text  \\\n",
      "36335           2           0           0           0         26         25   \n",
      "12384           0           0           1           0          6          3   \n",
      "24419           0           0           0           0          6          5   \n",
      "24740           0           0           0           0         21         21   \n",
      "27039           0           1           0           0         13         22   \n",
      "\n",
      "       ques_text  excl_text  title_len  text_len  title_words  title_ratio  \n",
      "36335          0          0         61      2964            9     0.020165  \n",
      "12384          0          0         49       688            9     0.066486  \n",
      "24419          0          0         59       765            9     0.071602  \n",
      "24740          0          0         68      2371            9     0.027880  \n",
      "27039          0          0        103      1757           15     0.055376  \n"
     ]
    }
   ],
   "source": [
    "X_train_feat = pd.concat([punc_train_title, punc_train_text, train_len, train_words, ratio_train], axis=1)\n",
    "X_test_feat = pd.concat([punc_test_title, punc_test_text, test_len, test_words, ratio_test], axis=1)\n",
    "\n",
    "print(X_train_feat.head())"
   ]
  },
  {
   "cell_type": "markdown",
   "metadata": {
    "id": "9oe3M00I64LD"
   },
   "source": [
    "## Removing Outliers\n",
    "\n",
    "*   Many Titles don't contain any form of punctuation!\n",
    "*   Some texts contain suspiciously small amounts of characters.\n",
    "\n",
    "So let's remove some extreme outliers!"
   ]
  },
  {
   "cell_type": "code",
   "execution_count": 13,
   "metadata": {
    "id": "ROzrwWw3PQrB"
   },
   "outputs": [],
   "source": [
    "X_train_feat_zscore = X_train_feat.apply(stats.zscore, axis=0)\n",
    "mask_outliers = np.logical_not(((X_train_feat_zscore>3).any(axis=1)).values + ((X_train_feat_zscore<-3).any(axis=1)).values) # Removing Data beyond +-3z values.\n",
    "X_train_feat = X_train_feat.loc[mask_outliers,:]\n",
    "y_train = y_train[X_train_feat.index]\n",
    "y_test = y_test[X_test_feat.index]"
   ]
  },
  {
   "cell_type": "markdown",
   "metadata": {
    "id": "_Gv63ZeF74I5"
   },
   "source": [
    "## Correlation between Features"
   ]
  },
  {
   "cell_type": "code",
   "execution_count": 14,
   "metadata": {
    "colab": {
     "base_uri": "https://localhost:8080/",
     "height": 423
    },
    "id": "sl65ljWUPQtz",
    "outputId": "1565a27e-0a48-4b8c-dbfb-85a0fbd1ace1"
   },
   "outputs": [
    {
     "data": {
      "image/png": "[encoded data removed]",
      "text/plain": [
       "<Figure size 576x432 with 2 Axes>"
      ]
     },
     "metadata": {
      "needs_background": "light"
     },
     "output_type": "display_data"
    }
   ],
   "source": [
    "fig, ax = plt.subplots(figsize=(8,6))\n",
    "sns.heatmap(np.abs(X_train_feat.corr()), annot=True)\n",
    "plt.show()"
   ]
  },
  {
   "cell_type": "code",
   "execution_count": 15,
   "metadata": {
    "colab": {
     "base_uri": "https://localhost:8080/",
     "height": 163
    },
    "id": "BHHrM546QIVA",
    "outputId": "f8d20ca0-2b7b-4dd1-fc92-e41649fad003"
   },
   "outputs": [
    {
     "data": {
      "text/html": [
       "<div>\n",
       "<style scoped>\n",
       "    .dataframe tbody tr th:only-of-type {\n",
       "        vertical-align: middle;\n",
       "    }\n",
       "\n",
       "    .dataframe tbody tr th {\n",
       "        vertical-align: top;\n",
       "    }\n",
       "\n",
       "    .dataframe thead th {\n",
       "        text-align: right;\n",
       "    }\n",
       "</style>\n",
       "<table border=\"1\" class=\"dataframe\">\n",
       "  <thead>\n",
       "    <tr style=\"text-align: right;\">\n",
       "      <th></th>\n",
       "      <th>peri_title</th>\n",
       "      <th>comm_title</th>\n",
       "      <th>ques_title</th>\n",
       "      <th>excl_title</th>\n",
       "      <th>peri_text</th>\n",
       "      <th>comm_text</th>\n",
       "      <th>ques_text</th>\n",
       "      <th>excl_text</th>\n",
       "      <th>title_len</th>\n",
       "      <th>text_len</th>\n",
       "      <th>title_words</th>\n",
       "      <th>title_ratio</th>\n",
       "    </tr>\n",
       "    <tr>\n",
       "      <th>is_fake</th>\n",
       "      <th></th>\n",
       "      <th></th>\n",
       "      <th></th>\n",
       "      <th></th>\n",
       "      <th></th>\n",
       "      <th></th>\n",
       "      <th></th>\n",
       "      <th></th>\n",
       "      <th></th>\n",
       "      <th></th>\n",
       "      <th></th>\n",
       "      <th></th>\n",
       "    </tr>\n",
       "  </thead>\n",
       "  <tbody>\n",
       "    <tr>\n",
       "      <th>0</th>\n",
       "      <td>0.431641</td>\n",
       "      <td>0.203327</td>\n",
       "      <td>0.0</td>\n",
       "      <td>0.0</td>\n",
       "      <td>20.244766</td>\n",
       "      <td>18.829885</td>\n",
       "      <td>0.081036</td>\n",
       "      <td>0.043588</td>\n",
       "      <td>64.559764</td>\n",
       "      <td>2325.743017</td>\n",
       "      <td>9.926269</td>\n",
       "      <td>0.048718</td>\n",
       "    </tr>\n",
       "    <tr>\n",
       "      <th>1</th>\n",
       "      <td>0.077863</td>\n",
       "      <td>0.154307</td>\n",
       "      <td>0.0</td>\n",
       "      <td>0.0</td>\n",
       "      <td>19.623453</td>\n",
       "      <td>19.335330</td>\n",
       "      <td>0.851840</td>\n",
       "      <td>0.437544</td>\n",
       "      <td>89.080069</td>\n",
       "      <td>2370.135078</td>\n",
       "      <td>13.960123</td>\n",
       "      <td>0.052720</td>\n",
       "    </tr>\n",
       "  </tbody>\n",
       "</table>\n",
       "</div>"
      ],
      "text/plain": [
       "         peri_title  comm_title  ques_title  excl_title  peri_text  comm_text  \\\n",
       "is_fake                                                                         \n",
       "0          0.431641    0.203327         0.0         0.0  20.244766  18.829885   \n",
       "1          0.077863    0.154307         0.0         0.0  19.623453  19.335330   \n",
       "\n",
       "         ques_text  excl_text  title_len     text_len  title_words  \\\n",
       "is_fake                                                              \n",
       "0         0.081036   0.043588  64.559764  2325.743017     9.926269   \n",
       "1         0.851840   0.437544  89.080069  2370.135078    13.960123   \n",
       "\n",
       "         title_ratio  \n",
       "is_fake               \n",
       "0           0.048718  \n",
       "1           0.052720  "
      ]
     },
     "execution_count": 15,
     "metadata": {},
     "output_type": "execute_result"
    }
   ],
   "source": [
    "pd.concat([X_train_feat, y_train], axis=1).groupby('is_fake').mean()"
   ]
  },
  {
   "cell_type": "markdown",
   "metadata": {},
   "source": [
    "* Titles of Fake News contain ~5 times less dots.\n",
    "* Texts of Fake News contain ~10 times more question marks.\n",
    "* Texts of Fake News contain ~10 times more exclamation marks.\n",
    "* Titles of Fake News are ~50% longer. The number of words seems to reflect that fact as well.\n",
    "* $\\frac {len(title)}{len(title)+len(text)}$ is ~10% longer in Fake News.\n",
    "* Let's ignore the high correlations we found above. A more elaborate approach would be to eliminate correlating features by dropping them or using dimensionality reduction like PCA."
   ]
  },
  {
   "cell_type": "markdown",
   "metadata": {
    "id": "UIhKv80uQLdq"
   },
   "source": [
    "## Classification Model based on Extracted Features\n",
    "\n",
    "Let us Try **RandomForest Model** for classification."
   ]
  },
  {
   "cell_type": "code",
   "execution_count": 45,
   "metadata": {
    "colab": {
     "base_uri": "https://localhost:8080/"
    },
    "id": "SvmrP0_0QIXQ",
    "outputId": "d9303478-6b31-484d-eebd-06a02175ece7"
   },
   "outputs": [
    {
     "name": "stdout",
     "output_type": "stream",
     "text": [
      "\n",
      "Training Accuracy :-\n",
      "\tf1 : 0.9263\n",
      "\tacc: 0.9173\n"
     ]
    }
   ],
   "source": [
    "rf = RandomForestClassifier(random_state=42)\n",
    "preds = cross_val_predict(rf, X_train_feat, y_train, cv=5)\n",
    "rf_acc = accuracy_score(y_true=y_train, y_pred=preds)\n",
    "rmse_rf = mean_squared_error(y_train,preds,squared = False)\n",
    "print(f'\\nTraining Accuracy :-\\n\\tf1 : {f1:.4f}\\n\\tacc: {rf_acc:.4f}')"
   ]
  },
  {
   "cell_type": "markdown",
   "metadata": {},
   "source": [
    "<br>\n",
    "<b>XGBoost Classifer</b>\n",
    "<br><br>"
   ]
  },
  {
   "cell_type": "code",
   "execution_count": 48,
   "metadata": {},
   "outputs": [
    {
     "name": "stdout",
     "output_type": "stream",
     "text": [
      "[12:27:01] WARNING: C:/Users/Administrator/workspace/xgboost-win64_release_1.4.0/src/learner.cc:1095: Starting in XGBoost 1.3.0, the default evaluation metric used with the objective 'binary:logistic' was changed from 'error' to 'logloss'. Explicitly set eval_metric if you'd like to restore the old behavior.\n",
      "Accuracy: 91.58%\n"
     ]
    }
   ],
   "source": [
    "from xgboost import XGBClassifier\n",
    "\n",
    "xgb = XGBClassifier()\n",
    "xgb.fit(X_train_feat, y_train)\n",
    "predictions = xgb.predict(X_test_feat)\n",
    "rmse_xgb = mean_squared_error(y_test,predictions,squared = False)\n",
    "xgb_accuracy = accuracy_score(y_test, predictions)\n",
    "print(\"Accuracy: %.2f%%\" % (xgb_accuracy * 100.0))"
   ]
  },
  {
   "cell_type": "markdown",
   "metadata": {},
   "source": [
    "<br>\n",
    "<b>KNNeighbors Classifier</b>\n",
    "<br><br>"
   ]
  },
  {
   "cell_type": "code",
   "execution_count": 49,
   "metadata": {},
   "outputs": [
    {
     "name": "stdout",
     "output_type": "stream",
     "text": [
      "Accuracy: 82.00%\n"
     ]
    }
   ],
   "source": [
    "from sklearn.neighbors import KNeighborsClassifier\n",
    "neigh = KNeighborsClassifier(n_neighbors=2)\n",
    "neigh.fit(X_train_feat, y_train)\n",
    "predictions = neigh.predict(X_test_feat)\n",
    "rmse_knn = mean_squared_error(y_test,predictions,squared = False)\n",
    "knn_accuracy = accuracy_score(y_test, predictions)\n",
    "print(\"Accuracy: %.2f%%\" % (knn_accuracy * 100.0))"
   ]
  },
  {
   "cell_type": "markdown",
   "metadata": {},
   "source": [
    "<br>\n",
    "<b>DecisionTree Classifier</b>\n",
    "<br><br>"
   ]
  },
  {
   "cell_type": "code",
   "execution_count": 50,
   "metadata": {},
   "outputs": [
    {
     "name": "stdout",
     "output_type": "stream",
     "text": [
      "Accuracy: 88.43%\n"
     ]
    }
   ],
   "source": [
    "from sklearn.tree import DecisionTreeClassifier\n",
    "\n",
    "dtree = DecisionTreeClassifier()\n",
    "dtree.fit(X_train_feat, y_train)\n",
    "predictions = dtree.predict(X_test_feat)\n",
    "rmse_dt = mean_squared_error(y_test,predictions,squared = False)\n",
    "dt_accuracy = accuracy_score(y_test, predictions)\n",
    "print(\"Accuracy: %.2f%%\" % (dt_accuracy * 100.0))"
   ]
  },
  {
   "cell_type": "markdown",
   "metadata": {
    "id": "9aYauxUy9Hvp"
   },
   "source": [
    "## HyperParameter Tuning"
   ]
  },
  {
   "cell_type": "code",
   "execution_count": 51,
   "metadata": {
    "colab": {
     "base_uri": "https://localhost:8080/"
    },
    "id": "f1s3MCQldRSS",
    "outputId": "fd6d42dd-e110-44d8-c443-4bec55617e95"
   },
   "outputs": [
    {
     "data": {
      "text/plain": [
       "{'criterion': 'gini',\n",
       " 'max_depth': None,\n",
       " 'max_features': 2,\n",
       " 'n_estimators': 300}"
      ]
     },
     "execution_count": 51,
     "metadata": {},
     "output_type": "execute_result"
    }
   ],
   "source": [
    "from sklearn.model_selection import GridSearchCV\n",
    "params= {'n_estimators':[200, 300], 'criterion':['gini', 'entropy'], 'max_depth':[5, None], 'max_features':[2,5]}\n",
    "gscv = GridSearchCV(rf, params)\n",
    "gscv.fit(X_train_feat, y_train)\n",
    "gscv.best_params_"
   ]
  },
  {
   "cell_type": "markdown",
   "metadata": {
    "id": "f1hvmTWf9qdu"
   },
   "source": [
    "## Tuned Model"
   ]
  },
  {
   "cell_type": "code",
   "execution_count": 52,
   "metadata": {
    "colab": {
     "base_uri": "https://localhost:8080/"
    },
    "id": "3I0seSlTdRUu",
    "outputId": "399a40a4-f8fa-4757-ea36-e64588f1683d"
   },
   "outputs": [
    {
     "name": "stdout",
     "output_type": "stream",
     "text": [
      "\n",
      "Training Accuracy :-\n",
      "\tf1 : 0.9047\n",
      "\tacc: 0.9180\n"
     ]
    }
   ],
   "source": [
    "rf_tuned = RandomForestClassifier(criterion='gini', max_depth=None, max_features=2, n_estimators=200, random_state=12)\n",
    "preds = cross_val_predict(rf_tuned, X_train_feat, y_train, cv=5)\n",
    "f1 = f1_score(y_true=y_train, y_pred=preds)\n",
    "rf_acc = accuracy_score(y_true=y_train, y_pred=preds)\n",
    "print(f'\\nTraining Accuracy :-\\n\\tf1 : {f1:.4f}\\n\\tacc: {rf_acc:.4f}')"
   ]
  },
  {
   "cell_type": "markdown",
   "metadata": {
    "id": "9r9FlDGe93bx"
   },
   "source": [
    "## Important Features"
   ]
  },
  {
   "cell_type": "code",
   "execution_count": 53,
   "metadata": {
    "colab": {
     "base_uri": "https://localhost:8080/"
    },
    "id": "W_6TF9gfdRXO",
    "outputId": "29b5947b-6c77-4305-8e88-668d73f5a2dc"
   },
   "outputs": [
    {
     "data": {
      "image/png": "[encoded data removed]",
      "text/plain": [
       "<Figure size 720x504 with 1 Axes>"
      ]
     },
     "metadata": {
      "needs_background": "light"
     },
     "output_type": "display_data"
    }
   ],
   "source": [
    "rf_tuned.fit(X_train_feat, y_train)\n",
    "predictions = rf_tuned.predict(X_test_feat)\n",
    "rmse_rf = mean_squared_error(y_test,predictions,squared = False)\n",
    "feat = pd.Series(rf_tuned.feature_importances_, index=X_train_feat.columns).sort_values(ascending=False)\n",
    "feat_cols = X_train_feat.columns\n",
    "fig = plt.figure(figsize=(10,7))\n",
    "plt.barh(feat_cols,feat)\n",
    "plt.title(\"Important features\")\n",
    "plt.show()"
   ]
  },
  {
   "cell_type": "markdown",
   "metadata": {
    "id": "Ftqc3Xna9-zQ"
   },
   "source": [
    "## Prediction on Test Data"
   ]
  },
  {
   "cell_type": "code",
   "execution_count": 35,
   "metadata": {
    "colab": {
     "base_uri": "https://localhost:8080/"
    },
    "id": "AfgNzLqjQIbf",
    "outputId": "388425c5-86f7-4ccb-d407-ac30c1c75afa"
   },
   "outputs": [
    {
     "name": "stdout",
     "output_type": "stream",
     "text": [
      "\n",
      "Testing Accuracy :-\n",
      "\tf1: 0.9263\n",
      "\tacc: 0.9238\n"
     ]
    }
   ],
   "source": [
    "preds_test = rf_tuned.predict(X_test_feat) \n",
    "f1 = f1_score(y_true=y_test, y_pred=preds_test)\n",
    "acc = accuracy_score(y_true=y_test, y_pred=preds_test)\n",
    "print(f'\\nTesting Accuracy :-\\n\\tf1: {f1:.4f}\\n\\tacc: {acc:.4f}')"
   ]
  },
  {
   "cell_type": "markdown",
   "metadata": {},
   "source": [
    "\n",
    "## Confusion Matrix"
   ]
  },
  {
   "cell_type": "code",
   "execution_count": 22,
   "metadata": {},
   "outputs": [
    {
     "name": "stdout",
     "output_type": "stream",
     "text": [
      "[[4059  275]\n",
      " [ 419 4227]]\n"
     ]
    }
   ],
   "source": [
    "from sklearn.metrics import confusion_matrix\n",
    "\n",
    "cm = confusion_matrix(y_test,preds_test)\n",
    "print(cm)"
   ]
  },
  {
   "cell_type": "code",
   "execution_count": 23,
   "metadata": {},
   "outputs": [
    {
     "data": {
      "image/png": "[encoded data removed]",
      "text/plain": [
       "<Figure size 432x288 with 1 Axes>"
      ]
     },
     "metadata": {
      "needs_background": "light"
     },
     "output_type": "display_data"
    }
   ],
   "source": [
    "plt.clf()\n",
    "plt.imshow(cm, interpolation='nearest', cmap=plt.cm.Wistia)\n",
    "classNames = ['Negative','Positive']\n",
    "plt.title('Fake news or Not Fake news Confusion Matrix - Test Data')\n",
    "plt.ylabel('True label')\n",
    "plt.xlabel('Predicted label')\n",
    "tick_marks = np.arange(len(classNames))\n",
    "plt.xticks(tick_marks, classNames, rotation=60)\n",
    "plt.yticks(tick_marks, classNames)\n",
    "s = [['TN','FP'], ['FN', 'TP']]\n",
    "for i in range(2):\n",
    "    for j in range(2):\n",
    "        plt.text(j,i, str(s[i][j])+\" = \"+str(cm[i][j]))\n",
    "plt.show()"
   ]
  },
  {
   "cell_type": "code",
   "execution_count": 24,
   "metadata": {},
   "outputs": [
    {
     "name": "stdout",
     "output_type": "stream",
     "text": [
      "Classification report : \n",
      "               precision    recall  f1-score   support\n",
      "\n",
      "           1       0.94      0.91      0.92      4646\n",
      "           0       0.91      0.94      0.92      4334\n",
      "\n",
      "    accuracy                           0.92      8980\n",
      "   macro avg       0.92      0.92      0.92      8980\n",
      "weighted avg       0.92      0.92      0.92      8980\n",
      "\n"
     ]
    }
   ],
   "source": [
    "from sklearn.metrics import classification_report\n",
    "\n",
    "matrix = classification_report(y_test,preds_test,labels=[1,0])\n",
    "print('Classification report : \\n',matrix)"
   ]
  },
  {
   "cell_type": "markdown",
   "metadata": {},
   "source": [
    "## Data Visualization"
   ]
  },
  {
   "cell_type": "code",
   "execution_count": 32,
   "metadata": {},
   "outputs": [
    {
     "data": {
      "text/html": [
       "<div>\n",
       "<style scoped>\n",
       "    .dataframe tbody tr th:only-of-type {\n",
       "        vertical-align: middle;\n",
       "    }\n",
       "\n",
       "    .dataframe tbody tr th {\n",
       "        vertical-align: top;\n",
       "    }\n",
       "\n",
       "    .dataframe thead th {\n",
       "        text-align: right;\n",
       "    }\n",
       "</style>\n",
       "<table border=\"1\" class=\"dataframe\">\n",
       "  <thead>\n",
       "    <tr style=\"text-align: right;\">\n",
       "      <th></th>\n",
       "      <th>peri_title</th>\n",
       "      <th>comm_title</th>\n",
       "      <th>ques_title</th>\n",
       "      <th>excl_title</th>\n",
       "      <th>peri_text</th>\n",
       "      <th>comm_text</th>\n",
       "      <th>ques_text</th>\n",
       "      <th>excl_text</th>\n",
       "      <th>title_len</th>\n",
       "      <th>text_len</th>\n",
       "      <th>title_words</th>\n",
       "      <th>title_ratio</th>\n",
       "      <th>is_fake</th>\n",
       "    </tr>\n",
       "  </thead>\n",
       "  <tbody>\n",
       "    <tr>\n",
       "      <th>0</th>\n",
       "      <td>0</td>\n",
       "      <td>0</td>\n",
       "      <td>0</td>\n",
       "      <td>0</td>\n",
       "      <td>6</td>\n",
       "      <td>6</td>\n",
       "      <td>0</td>\n",
       "      <td>0</td>\n",
       "      <td>62</td>\n",
       "      <td>395</td>\n",
       "      <td>11</td>\n",
       "      <td>title_ratio</td>\n",
       "      <td>0</td>\n",
       "    </tr>\n",
       "    <tr>\n",
       "      <th>1</th>\n",
       "      <td>0</td>\n",
       "      <td>1</td>\n",
       "      <td>0</td>\n",
       "      <td>0</td>\n",
       "      <td>24</td>\n",
       "      <td>24</td>\n",
       "      <td>0</td>\n",
       "      <td>0</td>\n",
       "      <td>73</td>\n",
       "      <td>3419</td>\n",
       "      <td>11</td>\n",
       "      <td>title_ratio</td>\n",
       "      <td>0</td>\n",
       "    </tr>\n",
       "    <tr>\n",
       "      <th>2</th>\n",
       "      <td>2</td>\n",
       "      <td>0</td>\n",
       "      <td>0</td>\n",
       "      <td>0</td>\n",
       "      <td>42</td>\n",
       "      <td>36</td>\n",
       "      <td>0</td>\n",
       "      <td>0</td>\n",
       "      <td>53</td>\n",
       "      <td>4062</td>\n",
       "      <td>8</td>\n",
       "      <td>title_ratio</td>\n",
       "      <td>0</td>\n",
       "    </tr>\n",
       "    <tr>\n",
       "      <th>3</th>\n",
       "      <td>0</td>\n",
       "      <td>1</td>\n",
       "      <td>0</td>\n",
       "      <td>0</td>\n",
       "      <td>13</td>\n",
       "      <td>16</td>\n",
       "      <td>0</td>\n",
       "      <td>0</td>\n",
       "      <td>139</td>\n",
       "      <td>1908</td>\n",
       "      <td>20</td>\n",
       "      <td>title_ratio</td>\n",
       "      <td>1</td>\n",
       "    </tr>\n",
       "    <tr>\n",
       "      <th>4</th>\n",
       "      <td>0</td>\n",
       "      <td>0</td>\n",
       "      <td>0</td>\n",
       "      <td>0</td>\n",
       "      <td>12</td>\n",
       "      <td>10</td>\n",
       "      <td>0</td>\n",
       "      <td>0</td>\n",
       "      <td>80</td>\n",
       "      <td>1402</td>\n",
       "      <td>14</td>\n",
       "      <td>title_ratio</td>\n",
       "      <td>1</td>\n",
       "    </tr>\n",
       "  </tbody>\n",
       "</table>\n",
       "</div>"
      ],
      "text/plain": [
       "   peri_title  comm_title  ques_title  excl_title  peri_text  comm_text  \\\n",
       "0           0           0           0           0          6          6   \n",
       "1           0           1           0           0         24         24   \n",
       "2           2           0           0           0         42         36   \n",
       "3           0           1           0           0         13         16   \n",
       "4           0           0           0           0         12         10   \n",
       "\n",
       "   ques_text  excl_text  title_len  text_len  title_words  title_ratio  \\\n",
       "0          0          0         62       395           11  title_ratio   \n",
       "1          0          0         73      3419           11  title_ratio   \n",
       "2          0          0         53      4062            8  title_ratio   \n",
       "3          0          0        139      1908           20  title_ratio   \n",
       "4          0          0         80      1402           14  title_ratio   \n",
       "\n",
       "   is_fake  \n",
       "0        0  \n",
       "1        0  \n",
       "2        0  \n",
       "3        1  \n",
       "4        1  "
      ]
     },
     "execution_count": 32,
     "metadata": {},
     "output_type": "execute_result"
    }
   ],
   "source": [
    "df = pd.read_csv('Final.csv')\n",
    "df.head()"
   ]
  },
  {
   "cell_type": "code",
   "execution_count": 33,
   "metadata": {},
   "outputs": [],
   "source": [
    "true = df[df['is_fake']==0]\n",
    "fake = df[df['is_fake']==1]\n",
    "fake_mean_title = fake[['peri_title','comm_title','ques_title','excl_title']].mean()\n",
    "true_mean_title = true[['peri_title','comm_title','ques_title','excl_title']].mean()"
   ]
  },
  {
   "cell_type": "code",
   "execution_count": 34,
   "metadata": {},
   "outputs": [],
   "source": [
    "fake_mean_text = fake[['peri_text','comm_text','ques_text','excl_text']].mean()\n",
    "true_mean_text = true[['peri_text','comm_text','ques_text','excl_text']].mean()\n",
    "columns = ['Periods(.)','Comma (,)','Question Mark (?)','Exclamation Mark (!)']"
   ]
  },
  {
   "cell_type": "code",
   "execution_count": 35,
   "metadata": {},
   "outputs": [
    {
     "data": {
      "image/png": "[encoded data removed]",
      "text/plain": [
       "<Figure size 720x504 with 1 Axes>"
      ]
     },
     "metadata": {},
     "output_type": "display_data"
    }
   ],
   "source": [
    "fig = plt.figure(figsize=(10,7))\n",
    "plt.pie(fake_mean_title,normalize = True,labels = columns,explode = [0.1,0.1,0.1,0.1],autopct='%.2f')\n",
    "plt.title('Puncuation Split-up On Fake News Title.')\n",
    "plt.show()"
   ]
  },
  {
   "cell_type": "code",
   "execution_count": 36,
   "metadata": {},
   "outputs": [
    {
     "data": {
      "image/png": "[encoded data removed]",
      "text/plain": [
       "<Figure size 720x504 with 1 Axes>"
      ]
     },
     "metadata": {},
     "output_type": "display_data"
    }
   ],
   "source": [
    "fig = plt.figure(figsize=(10, 7))\n",
    "plt.pie(true_mean_title,normalize = True,labels = columns,explode = [0.05,0.1,2,0],autopct='%.2f')\n",
    "plt.title('Puncuation Split-up On True News Title.')\n",
    "plt.show()"
   ]
  },
  {
   "cell_type": "code",
   "execution_count": 37,
   "metadata": {},
   "outputs": [
    {
     "data": {
      "image/png": "[encoded data removed]",
      "text/plain": [
       "<Figure size 720x504 with 1 Axes>"
      ]
     },
     "metadata": {},
     "output_type": "display_data"
    }
   ],
   "source": [
    "fig = plt.figure(figsize=(10,7))\n",
    "plt.pie(fake_mean_text,normalize = True,labels = columns,explode = [0.05,0.1,0.05,0],autopct='%.2f')\n",
    "plt.title('Puncuation Split-up On Fake News Text.')\n",
    "plt.show()\n"
   ]
  },
  {
   "cell_type": "code",
   "execution_count": 38,
   "metadata": {},
   "outputs": [
    {
     "data": {
      "image/png": "[encoded data removed]",
      "text/plain": [
       "<Figure size 720x504 with 1 Axes>"
      ]
     },
     "metadata": {},
     "output_type": "display_data"
    }
   ],
   "source": [
    "fig = plt.figure(figsize=(10,7))\n",
    "plt.pie(true_mean_text,normalize = True,labels = columns,explode = [0.05,0.1,2,0],autopct='%.2f')\n",
    "plt.title('Puncuation Split-up On True News Text.')\n",
    "plt.show()"
   ]
  },
  {
   "cell_type": "code",
   "execution_count": 39,
   "metadata": {},
   "outputs": [
    {
     "name": "stderr",
     "output_type": "stream",
     "text": [
      "c:\\users\\aravindhan\\appdata\\local\\programs\\python\\python38\\lib\\site-packages\\seaborn\\distributions.py:2557: FutureWarning: `distplot` is a deprecated function and will be removed in a future version. Please adapt your code to use either `displot` (a figure-level function with similar flexibility) or `histplot` (an axes-level function for histograms).\n",
      "  warnings.warn(msg, FutureWarning)\n"
     ]
    },
    {
     "data": {
      "image/png": "[encoded data removed]",
      "text/plain": [
       "<Figure size 432x288 with 1 Axes>"
      ]
     },
     "metadata": {
      "needs_background": "light"
     },
     "output_type": "display_data"
    },
    {
     "data": {
      "text/plain": [
       "<Figure size 720x504 with 0 Axes>"
      ]
     },
     "metadata": {},
     "output_type": "display_data"
    }
   ],
   "source": [
    "sns.distplot(true['title_len'])\n",
    "plt.title('True News Title Distribution')\n",
    "fig = plt.figure(figsize=(10,7))\n",
    "plt.show()"
   ]
  },
  {
   "cell_type": "code",
   "execution_count": 40,
   "metadata": {},
   "outputs": [
    {
     "name": "stderr",
     "output_type": "stream",
     "text": [
      "c:\\users\\aravindhan\\appdata\\local\\programs\\python\\python38\\lib\\site-packages\\seaborn\\distributions.py:2557: FutureWarning: `distplot` is a deprecated function and will be removed in a future version. Please adapt your code to use either `displot` (a figure-level function with similar flexibility) or `histplot` (an axes-level function for histograms).\n",
      "  warnings.warn(msg, FutureWarning)\n"
     ]
    },
    {
     "data": {
      "image/png": "[encoded data removed]",
      "text/plain": [
       "<Figure size 432x288 with 1 Axes>"
      ]
     },
     "metadata": {
      "needs_background": "light"
     },
     "output_type": "display_data"
    },
    {
     "data": {
      "text/plain": [
       "<Figure size 720x504 with 0 Axes>"
      ]
     },
     "metadata": {},
     "output_type": "display_data"
    }
   ],
   "source": [
    "sns.distplot(fake['title_len'])\n",
    "plt.title('Fake News Title Distribution')\n",
    "fig = plt.figure(figsize=(10,7))\n",
    "plt.show()"
   ]
  },
  {
   "cell_type": "code",
   "execution_count": 44,
   "metadata": {},
   "outputs": [
    {
     "data": {
      "text/plain": [
       "<AxesSubplot:ylabel='count'>"
      ]
     },
     "execution_count": 44,
     "metadata": {},
     "output_type": "execute_result"
    },
    {
     "data": {
      "image/png": "[encoded data removed]",
      "text/plain": [
       "<Figure size 432x288 with 1 Axes>"
      ]
     },
     "metadata": {
      "needs_background": "light"
     },
     "output_type": "display_data"
    }
   ],
   "source": [
    "cnt = ['True' if i==0 else 'False' for i in df['is_fake']]\n",
    "sns.countplot(x = cnt)"
   ]
  },
  {
   "cell_type": "code",
   "execution_count": 38,
   "metadata": {},
   "outputs": [
    {
     "data": {
      "image/png": "[encoded data removed]",
      "text/plain": [
       "<Figure size 720x504 with 1 Axes>"
      ]
     },
     "metadata": {
      "needs_background": "light"
     },
     "output_type": "display_data"
    }
   ],
   "source": [
    "accuracy = [0.9238,xgb_accuracy,dt_accuracy,knn_accuracy]\n",
    "acu_name = [\"Random Forest\",\"XGBooster\",\"Decision Tree\",\"K Nearest Neigbbour\"]\n",
    "fig = plt.figure(figsize=(10,7))\n",
    "plt.barh(acu_name,accuracy)\n",
    "plt.title('Accuracy of Different Models')\n",
    "plt.show()"
   ]
  },
  {
   "cell_type": "code",
   "execution_count": 54,
   "metadata": {},
   "outputs": [
    {
     "name": "stdout",
     "output_type": "stream",
     "text": [
      "[0.9238, 0.9158129175946548, 0.882739420935412, 0.8200445434298441]\n"
     ]
    }
   ],
   "source": [
    "print(accuracy)"
   ]
  },
  {
   "cell_type": "code",
   "execution_count": 55,
   "metadata": {},
   "outputs": [
    {
     "name": "stdout",
     "output_type": "stream",
     "text": [
      "[0.27598779870386947, 0.2901501032316639, 0.340149318711716, 0.4242115705283814]\n"
     ]
    }
   ],
   "source": [
    "rmse_val = [rmse_rf,rmse_xgb,rmse_dt,rmse_knn]\n",
    "print(rmse_val)"
   ]
  },
  {
   "cell_type": "code",
   "execution_count": null,
   "metadata": {},
   "outputs": [],
   "source": []
  }
 ],
 "metadata": {
  "colab": {
   "name": "Untitled0.ipynb",
   "provenance": []
  },
  "kernelspec": {
   "display_name": "Python 3",
   "language": "python",
   "name": "python3"
  },
  "language_info": {
   "codemirror_mode": {
    "name": "ipython",
    "version": 3
   },
   "file_extension": ".py",
   "mimetype": "text/x-python",
   "name": "python",
   "nbconvert_exporter": "python",
   "pygments_lexer": "ipython3",
   "version": "3.8.7"
  }
 },
 "nbformat": 4,
 "nbformat_minor": 4
}
